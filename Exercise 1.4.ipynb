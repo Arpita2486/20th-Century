{
 "cells": [
  {
   "cell_type": "code",
   "execution_count": 3,
   "id": "0ff76b52-8b66-458f-802a-fb8a8bca450c",
   "metadata": {},
   "outputs": [],
   "source": [
    "from selenium import webdriver"
   ]
  },
  {
   "cell_type": "code",
   "execution_count": 5,
   "id": "8e5326c6-707e-4796-a17b-6b21d47801c7",
   "metadata": {},
   "outputs": [
    {
     "name": "stdout",
     "output_type": "stream",
     "text": [
      "Python exe: C:\\Users\\arpit\\anaconda3\\envs\\20th_century\\python.exe\n",
      "Version: 3.11.13 | packaged by Anaconda, Inc. | (main, Jun  5 2025, 13:03:15) [MSC v.1929 64 bit (AMD64)]\n",
      "OS: Windows-10-10.0.26100-SP0\n"
     ]
    }
   ],
   "source": [
    "import sys, platform\n",
    "print(\"Python exe:\", sys.executable)\n",
    "print(\"Version:\", sys.version)\n",
    "print(\"OS:\", platform.platform())"
   ]
  },
  {
   "cell_type": "code",
   "execution_count": 7,
   "id": "280c639d-6005-41a9-8586-d0f578827b2c",
   "metadata": {},
   "outputs": [
    {
     "name": "stdout",
     "output_type": "stream",
     "text": [
      "Requirement already satisfied: pip in c:\\users\\arpit\\anaconda3\\envs\\20th_century\\lib\\site-packages (25.1)\n",
      "Collecting pip\n",
      "  Downloading pip-25.2-py3-none-any.whl.metadata (4.7 kB)\n",
      "Downloading pip-25.2-py3-none-any.whl (1.8 MB)\n",
      "   ---------------------------------------- 0.0/1.8 MB ? eta -:--:--\n",
      "   ----------------------------- ---------- 1.3/1.8 MB 7.4 MB/s eta 0:00:01\n",
      "   ---------------------------------------- 1.8/1.8 MB 6.8 MB/s eta 0:00:00\n",
      "Installing collected packages: pip\n",
      "  Attempting uninstall: pip\n",
      "    Found existing installation: pip 25.1\n",
      "    Uninstalling pip-25.1:\n",
      "      Successfully uninstalled pip-25.1\n",
      "Successfully installed pip-25.2\n",
      "Note: you may need to restart the kernel to use updated packages.\n",
      "Requirement already satisfied: selenium in c:\\users\\arpit\\anaconda3\\envs\\20th_century\\lib\\site-packages (3.141.0)\n",
      "Requirement already satisfied: webdriver-manager in c:\\users\\arpit\\anaconda3\\envs\\20th_century\\lib\\site-packages (3.8.5)\n",
      "Requirement already satisfied: beautifulsoup4 in c:\\users\\arpit\\anaconda3\\envs\\20th_century\\lib\\site-packages (4.11.1)\n",
      "Requirement already satisfied: lxml in c:\\users\\arpit\\anaconda3\\envs\\20th_century\\lib\\site-packages (6.0.0)\n",
      "Requirement already satisfied: ipykernel in c:\\users\\arpit\\anaconda3\\envs\\20th_century\\lib\\site-packages (6.30.1)\n",
      "Requirement already satisfied: urllib3 in c:\\users\\arpit\\anaconda3\\envs\\20th_century\\lib\\site-packages (from selenium) (1.26.20)\n",
      "Requirement already satisfied: requests in c:\\users\\arpit\\anaconda3\\envs\\20th_century\\lib\\site-packages (from webdriver-manager) (2.28.1)\n",
      "Requirement already satisfied: python-dotenv in c:\\users\\arpit\\anaconda3\\envs\\20th_century\\lib\\site-packages (from webdriver-manager) (1.1.1)\n",
      "Requirement already satisfied: tqdm in c:\\users\\arpit\\anaconda3\\envs\\20th_century\\lib\\site-packages (from webdriver-manager) (4.67.1)\n",
      "Requirement already satisfied: packaging in c:\\users\\arpit\\anaconda3\\envs\\20th_century\\lib\\site-packages (from webdriver-manager) (25.0)\n",
      "Requirement already satisfied: soupsieve>1.2 in c:\\users\\arpit\\anaconda3\\envs\\20th_century\\lib\\site-packages (from beautifulsoup4) (2.7)\n",
      "Requirement already satisfied: comm>=0.1.1 in c:\\users\\arpit\\anaconda3\\envs\\20th_century\\lib\\site-packages (from ipykernel) (0.2.3)\n",
      "Requirement already satisfied: debugpy>=1.6.5 in c:\\users\\arpit\\anaconda3\\envs\\20th_century\\lib\\site-packages (from ipykernel) (1.8.16)\n",
      "Requirement already satisfied: ipython>=7.23.1 in c:\\users\\arpit\\anaconda3\\envs\\20th_century\\lib\\site-packages (from ipykernel) (9.4.0)\n",
      "Requirement already satisfied: jupyter-client>=8.0.0 in c:\\users\\arpit\\anaconda3\\envs\\20th_century\\lib\\site-packages (from ipykernel) (8.6.3)\n",
      "Requirement already satisfied: jupyter-core!=5.0.*,>=4.12 in c:\\users\\arpit\\anaconda3\\envs\\20th_century\\lib\\site-packages (from ipykernel) (5.8.1)\n",
      "Requirement already satisfied: matplotlib-inline>=0.1 in c:\\users\\arpit\\anaconda3\\envs\\20th_century\\lib\\site-packages (from ipykernel) (0.1.7)\n",
      "Requirement already satisfied: nest-asyncio>=1.4 in c:\\users\\arpit\\anaconda3\\envs\\20th_century\\lib\\site-packages (from ipykernel) (1.6.0)\n",
      "Requirement already satisfied: psutil>=5.7 in c:\\users\\arpit\\anaconda3\\envs\\20th_century\\lib\\site-packages (from ipykernel) (7.0.0)\n",
      "Requirement already satisfied: pyzmq>=25 in c:\\users\\arpit\\anaconda3\\envs\\20th_century\\lib\\site-packages (from ipykernel) (27.0.1)\n",
      "Requirement already satisfied: tornado>=6.2 in c:\\users\\arpit\\anaconda3\\envs\\20th_century\\lib\\site-packages (from ipykernel) (6.5.2)\n",
      "Requirement already satisfied: traitlets>=5.4.0 in c:\\users\\arpit\\anaconda3\\envs\\20th_century\\lib\\site-packages (from ipykernel) (5.14.3)\n",
      "Requirement already satisfied: colorama in c:\\users\\arpit\\anaconda3\\envs\\20th_century\\lib\\site-packages (from ipython>=7.23.1->ipykernel) (0.4.6)\n",
      "Requirement already satisfied: decorator in c:\\users\\arpit\\anaconda3\\envs\\20th_century\\lib\\site-packages (from ipython>=7.23.1->ipykernel) (5.2.1)\n",
      "Requirement already satisfied: ipython-pygments-lexers in c:\\users\\arpit\\anaconda3\\envs\\20th_century\\lib\\site-packages (from ipython>=7.23.1->ipykernel) (1.1.1)\n",
      "Requirement already satisfied: jedi>=0.16 in c:\\users\\arpit\\anaconda3\\envs\\20th_century\\lib\\site-packages (from ipython>=7.23.1->ipykernel) (0.19.2)\n",
      "Requirement already satisfied: prompt_toolkit<3.1.0,>=3.0.41 in c:\\users\\arpit\\anaconda3\\envs\\20th_century\\lib\\site-packages (from ipython>=7.23.1->ipykernel) (3.0.51)\n",
      "Requirement already satisfied: pygments>=2.4.0 in c:\\users\\arpit\\anaconda3\\envs\\20th_century\\lib\\site-packages (from ipython>=7.23.1->ipykernel) (2.19.2)\n",
      "Requirement already satisfied: stack_data in c:\\users\\arpit\\anaconda3\\envs\\20th_century\\lib\\site-packages (from ipython>=7.23.1->ipykernel) (0.6.3)\n",
      "Requirement already satisfied: typing_extensions>=4.6 in c:\\users\\arpit\\anaconda3\\envs\\20th_century\\lib\\site-packages (from ipython>=7.23.1->ipykernel) (4.14.1)\n",
      "Requirement already satisfied: wcwidth in c:\\users\\arpit\\anaconda3\\envs\\20th_century\\lib\\site-packages (from prompt_toolkit<3.1.0,>=3.0.41->ipython>=7.23.1->ipykernel) (0.2.13)\n",
      "Requirement already satisfied: parso<0.9.0,>=0.8.4 in c:\\users\\arpit\\anaconda3\\envs\\20th_century\\lib\\site-packages (from jedi>=0.16->ipython>=7.23.1->ipykernel) (0.8.4)\n",
      "Requirement already satisfied: python-dateutil>=2.8.2 in c:\\users\\arpit\\anaconda3\\envs\\20th_century\\lib\\site-packages (from jupyter-client>=8.0.0->ipykernel) (2.9.0.post0)\n",
      "Requirement already satisfied: platformdirs>=2.5 in c:\\users\\arpit\\anaconda3\\envs\\20th_century\\lib\\site-packages (from jupyter-core!=5.0.*,>=4.12->ipykernel) (4.3.8)\n",
      "Requirement already satisfied: pywin32>=300 in c:\\users\\arpit\\anaconda3\\envs\\20th_century\\lib\\site-packages (from jupyter-core!=5.0.*,>=4.12->ipykernel) (311)\n",
      "Requirement already satisfied: six>=1.5 in c:\\users\\arpit\\anaconda3\\envs\\20th_century\\lib\\site-packages (from python-dateutil>=2.8.2->jupyter-client>=8.0.0->ipykernel) (1.17.0)\n",
      "Requirement already satisfied: charset-normalizer<3,>=2 in c:\\users\\arpit\\anaconda3\\envs\\20th_century\\lib\\site-packages (from requests->webdriver-manager) (2.1.1)\n",
      "Requirement already satisfied: idna<4,>=2.5 in c:\\users\\arpit\\anaconda3\\envs\\20th_century\\lib\\site-packages (from requests->webdriver-manager) (3.10)\n",
      "Requirement already satisfied: certifi>=2017.4.17 in c:\\users\\arpit\\anaconda3\\envs\\20th_century\\lib\\site-packages (from requests->webdriver-manager) (2025.8.3)\n",
      "Requirement already satisfied: executing>=1.2.0 in c:\\users\\arpit\\anaconda3\\envs\\20th_century\\lib\\site-packages (from stack_data->ipython>=7.23.1->ipykernel) (2.2.0)\n",
      "Requirement already satisfied: asttokens>=2.1.0 in c:\\users\\arpit\\anaconda3\\envs\\20th_century\\lib\\site-packages (from stack_data->ipython>=7.23.1->ipykernel) (3.0.0)\n",
      "Requirement already satisfied: pure-eval in c:\\users\\arpit\\anaconda3\\envs\\20th_century\\lib\\site-packages (from stack_data->ipython>=7.23.1->ipykernel) (0.2.3)\n",
      "Note: you may need to restart the kernel to use updated packages.\n"
     ]
    }
   ],
   "source": [
    "%pip install --upgrade pip\n",
    "%pip install selenium webdriver-manager beautifulsoup4 lxml ipykernel"
   ]
  },
  {
   "cell_type": "code",
   "execution_count": 1,
   "id": "bf0b0c1e-8621-48ee-8019-fd1dbe16ac2d",
   "metadata": {},
   "outputs": [
    {
     "name": "stdout",
     "output_type": "stream",
     "text": [
      "Selenium + deps imported OK\n"
     ]
    }
   ],
   "source": [
    "from selenium import webdriver\n",
    "from webdriver_manager.chrome import ChromeDriverManager\n",
    "from bs4 import BeautifulSoup\n",
    "print(\"Selenium + deps imported OK\")"
   ]
  },
  {
   "cell_type": "code",
   "execution_count": 3,
   "id": "8b01d99f-a9e8-48a2-aa0c-91acb074333b",
   "metadata": {},
   "outputs": [
    {
     "name": "stdout",
     "output_type": "stream",
     "text": [
      "Working directory: C:\\Users\\arpit\\Documents\\CareerFoundry\n"
     ]
    }
   ],
   "source": [
    "from selenium import webdriver\n",
    "from selenium.webdriver.chrome.options import Options\n",
    "from selenium.webdriver.chrome.service import Service\n",
    "from selenium.webdriver.common.by import By\n",
    "from selenium.webdriver.support.ui import WebDriverWait\n",
    "from selenium.webdriver.support import expected_conditions as EC\n",
    "from webdriver_manager.chrome import ChromeDriverManager\n",
    "from bs4 import BeautifulSoup\n",
    "import time, os, pathlib\n",
    "\n",
    "# Target URL (your page)\n",
    "TARGET_URL = \"https://careerfoundry.com/en/dashboards/main\"\n",
    "\n",
    "# Output filenames\n",
    "OUT_HTML = \"key_events_20th_century_raw.html\"\n",
    "OUT_TXT  = \"key_events_20th_century_text.txt\"\n",
    "\n",
    "# Show where files will be saved\n",
    "print(\"Working directory:\", os.getcwd())\n",
    "\n",
    "# Headless browser\n",
    "chrome_options = Options()\n",
    "chrome_options.add_argument(\"--headless=new\")\n",
    "chrome_options.add_argument(\"--disable-gpu\")\n",
    "chrome_options.add_argument(\"--no-sandbox\")\n",
    "chrome_options.add_argument(\"--window-size=1920,1080\")"
   ]
  },
  {
   "cell_type": "code",
   "execution_count": 5,
   "id": "39295418-4920-4620-8319-6714ebfd0b7c",
   "metadata": {},
   "outputs": [
    {
     "ename": "ValueError",
     "evalue": "There is no such driver by url https://chromedriver.storage.googleapis.com/138.0.7204/chromedriver_win32.zip",
     "output_type": "error",
     "traceback": [
      "\u001b[31m---------------------------------------------------------------------------\u001b[39m",
      "\u001b[31mValueError\u001b[39m                                Traceback (most recent call last)",
      "\u001b[36mCell\u001b[39m\u001b[36m \u001b[39m\u001b[32mIn[5]\u001b[39m\u001b[32m, line 1\u001b[39m\n\u001b[32m----> \u001b[39m\u001b[32m1\u001b[39m service = Service(\u001b[43mChromeDriverManager\u001b[49m\u001b[43m(\u001b[49m\u001b[43m)\u001b[49m\u001b[43m.\u001b[49m\u001b[43minstall\u001b[49m\u001b[43m(\u001b[49m\u001b[43m)\u001b[49m)\n\u001b[32m      2\u001b[39m driver = webdriver.Chrome(service=service, options=chrome_options)\n\u001b[32m      4\u001b[39m driver.get(TARGET_URL)\n",
      "\u001b[36mFile \u001b[39m\u001b[32m~\\anaconda3\\envs\\20th_century\\Lib\\site-packages\\webdriver_manager\\chrome.py:39\u001b[39m, in \u001b[36mChromeDriverManager.install\u001b[39m\u001b[34m(self)\u001b[39m\n\u001b[32m     38\u001b[39m \u001b[38;5;28;01mdef\u001b[39;00m\u001b[38;5;250m \u001b[39m\u001b[34minstall\u001b[39m(\u001b[38;5;28mself\u001b[39m) -> \u001b[38;5;28mstr\u001b[39m:\n\u001b[32m---> \u001b[39m\u001b[32m39\u001b[39m     driver_path = \u001b[38;5;28;43mself\u001b[39;49m\u001b[43m.\u001b[49m\u001b[43m_get_driver_path\u001b[49m\u001b[43m(\u001b[49m\u001b[38;5;28;43mself\u001b[39;49m\u001b[43m.\u001b[49m\u001b[43mdriver\u001b[49m\u001b[43m)\u001b[49m\n\u001b[32m     40\u001b[39m     os.chmod(driver_path, \u001b[32m0o755\u001b[39m)\n\u001b[32m     41\u001b[39m     \u001b[38;5;28;01mreturn\u001b[39;00m driver_path\n",
      "\u001b[36mFile \u001b[39m\u001b[32m~\\anaconda3\\envs\\20th_century\\Lib\\site-packages\\webdriver_manager\\core\\manager.py:30\u001b[39m, in \u001b[36mDriverManager._get_driver_path\u001b[39m\u001b[34m(self, driver)\u001b[39m\n\u001b[32m     27\u001b[39m \u001b[38;5;28;01mif\u001b[39;00m binary_path:\n\u001b[32m     28\u001b[39m     \u001b[38;5;28;01mreturn\u001b[39;00m binary_path\n\u001b[32m---> \u001b[39m\u001b[32m30\u001b[39m file = \u001b[38;5;28;43mself\u001b[39;49m\u001b[43m.\u001b[49m\u001b[43m_download_manager\u001b[49m\u001b[43m.\u001b[49m\u001b[43mdownload_file\u001b[49m\u001b[43m(\u001b[49m\u001b[43mdriver\u001b[49m\u001b[43m.\u001b[49m\u001b[43mget_url\u001b[49m\u001b[43m(\u001b[49m\u001b[43m)\u001b[49m\u001b[43m)\u001b[49m\n\u001b[32m     31\u001b[39m binary_path = \u001b[38;5;28mself\u001b[39m.driver_cache.save_file_to_cache(driver, file)\n\u001b[32m     32\u001b[39m \u001b[38;5;28;01mreturn\u001b[39;00m binary_path\n",
      "\u001b[36mFile \u001b[39m\u001b[32m~\\anaconda3\\envs\\20th_century\\Lib\\site-packages\\webdriver_manager\\core\\download_manager.py:28\u001b[39m, in \u001b[36mWDMDownloadManager.download_file\u001b[39m\u001b[34m(self, url)\u001b[39m\n\u001b[32m     26\u001b[39m \u001b[38;5;28;01mdef\u001b[39;00m\u001b[38;5;250m \u001b[39m\u001b[34mdownload_file\u001b[39m(\u001b[38;5;28mself\u001b[39m, url: \u001b[38;5;28mstr\u001b[39m) -> File:\n\u001b[32m     27\u001b[39m     log(\u001b[33mf\u001b[39m\u001b[33m\"\u001b[39m\u001b[33mAbout to download new driver from \u001b[39m\u001b[38;5;132;01m{\u001b[39;00murl\u001b[38;5;132;01m}\u001b[39;00m\u001b[33m\"\u001b[39m)\n\u001b[32m---> \u001b[39m\u001b[32m28\u001b[39m     response = \u001b[38;5;28;43mself\u001b[39;49m\u001b[43m.\u001b[49m\u001b[43m_http_client\u001b[49m\u001b[43m.\u001b[49m\u001b[43mget\u001b[49m\u001b[43m(\u001b[49m\u001b[43murl\u001b[49m\u001b[43m)\u001b[49m\n\u001b[32m     29\u001b[39m     \u001b[38;5;28;01mreturn\u001b[39;00m File(response)\n",
      "\u001b[36mFile \u001b[39m\u001b[32m~\\anaconda3\\envs\\20th_century\\Lib\\site-packages\\webdriver_manager\\core\\http.py:33\u001b[39m, in \u001b[36mWDMHttpClient.get\u001b[39m\u001b[34m(self, url, **kwargs)\u001b[39m\n\u001b[32m     31\u001b[39m \u001b[38;5;28;01mdef\u001b[39;00m\u001b[38;5;250m \u001b[39m\u001b[34mget\u001b[39m(\u001b[38;5;28mself\u001b[39m, url, **kwargs) -> Response:\n\u001b[32m     32\u001b[39m     resp = requests.get(url=url, verify=\u001b[38;5;28mself\u001b[39m._ssl_verify, stream=\u001b[38;5;28;01mTrue\u001b[39;00m, **kwargs)\n\u001b[32m---> \u001b[39m\u001b[32m33\u001b[39m     \u001b[38;5;28;43mself\u001b[39;49m\u001b[43m.\u001b[49m\u001b[43mvalidate_response\u001b[49m\u001b[43m(\u001b[49m\u001b[43mresp\u001b[49m\u001b[43m)\u001b[49m\n\u001b[32m     34\u001b[39m     \u001b[38;5;28;01mif\u001b[39;00m wdm_progress_bar():\n\u001b[32m     35\u001b[39m         show_download_progress(resp)\n",
      "\u001b[36mFile \u001b[39m\u001b[32m~\\anaconda3\\envs\\20th_century\\Lib\\site-packages\\webdriver_manager\\core\\http.py:16\u001b[39m, in \u001b[36mHttpClient.validate_response\u001b[39m\u001b[34m(resp)\u001b[39m\n\u001b[32m     14\u001b[39m status_code = resp.status_code\n\u001b[32m     15\u001b[39m \u001b[38;5;28;01mif\u001b[39;00m status_code == \u001b[32m404\u001b[39m:\n\u001b[32m---> \u001b[39m\u001b[32m16\u001b[39m     \u001b[38;5;28;01mraise\u001b[39;00m \u001b[38;5;167;01mValueError\u001b[39;00m(\u001b[33mf\u001b[39m\u001b[33m\"\u001b[39m\u001b[33mThere is no such driver by url \u001b[39m\u001b[38;5;132;01m{\u001b[39;00mresp.url\u001b[38;5;132;01m}\u001b[39;00m\u001b[33m\"\u001b[39m)\n\u001b[32m     17\u001b[39m \u001b[38;5;28;01melif\u001b[39;00m status_code == \u001b[32m401\u001b[39m:\n\u001b[32m     18\u001b[39m     \u001b[38;5;28;01mraise\u001b[39;00m \u001b[38;5;167;01mValueError\u001b[39;00m(\u001b[33mf\u001b[39m\u001b[33m\"\u001b[39m\u001b[33mAPI Rate limit exceeded. You have to add GH_TOKEN!!!\u001b[39m\u001b[33m\"\u001b[39m)\n",
      "\u001b[31mValueError\u001b[39m: There is no such driver by url https://chromedriver.storage.googleapis.com/138.0.7204/chromedriver_win32.zip"
     ]
    }
   ],
   "source": [
    "service = Service(ChromeDriverManager().install())\n",
    "driver = webdriver.Chrome(service=service, options=chrome_options)\n",
    "\n",
    "driver.get(TARGET_URL)\n",
    "\n",
    "# Wait for page body to load\n",
    "WebDriverWait(driver, 20).until(EC.presence_of_element_located((By.TAG_NAME, \"body\")))\n",
    "time.sleep(1)  # small buffer for dynamic content\n",
    "print(\"Page loaded.\")"
   ]
  },
  {
   "cell_type": "code",
   "execution_count": 7,
   "id": "7110832b-849a-4ae6-baf7-9a0505046f92",
   "metadata": {},
   "outputs": [
    {
     "name": "stdout",
     "output_type": "stream",
     "text": [
      "Collecting webdriver-manager==4.0.1\n",
      "  Downloading webdriver_manager-4.0.1-py2.py3-none-any.whl.metadata (12 kB)\n",
      "Requirement already satisfied: requests in c:\\users\\arpit\\anaconda3\\envs\\20th_century\\lib\\site-packages (from webdriver-manager==4.0.1) (2.28.1)\n",
      "Requirement already satisfied: python-dotenv in c:\\users\\arpit\\anaconda3\\envs\\20th_century\\lib\\site-packages (from webdriver-manager==4.0.1) (1.1.1)\n",
      "Requirement already satisfied: packaging in c:\\users\\arpit\\anaconda3\\envs\\20th_century\\lib\\site-packages (from webdriver-manager==4.0.1) (25.0)\n",
      "Requirement already satisfied: charset-normalizer<3,>=2 in c:\\users\\arpit\\anaconda3\\envs\\20th_century\\lib\\site-packages (from requests->webdriver-manager==4.0.1) (2.1.1)\n",
      "Requirement already satisfied: idna<4,>=2.5 in c:\\users\\arpit\\anaconda3\\envs\\20th_century\\lib\\site-packages (from requests->webdriver-manager==4.0.1) (3.10)\n",
      "Requirement already satisfied: urllib3<1.27,>=1.21.1 in c:\\users\\arpit\\anaconda3\\envs\\20th_century\\lib\\site-packages (from requests->webdriver-manager==4.0.1) (1.26.20)\n",
      "Requirement already satisfied: certifi>=2017.4.17 in c:\\users\\arpit\\anaconda3\\envs\\20th_century\\lib\\site-packages (from requests->webdriver-manager==4.0.1) (2025.8.3)\n",
      "Downloading webdriver_manager-4.0.1-py2.py3-none-any.whl (27 kB)\n",
      "Installing collected packages: webdriver-manager\n",
      "  Attempting uninstall: webdriver-manager\n",
      "    Found existing installation: webdriver-manager 3.8.5\n",
      "    Uninstalling webdriver-manager-3.8.5:\n",
      "      Successfully uninstalled webdriver-manager-3.8.5\n",
      "Successfully installed webdriver-manager-4.0.1\n",
      "Note: you may need to restart the kernel to use updated packages.\n"
     ]
    }
   ],
   "source": [
    "%pip install \"webdriver-manager==4.0.1\""
   ]
  },
  {
   "cell_type": "code",
   "execution_count": 1,
   "id": "d0b9db51-fd05-4530-9973-ed70ee1257b8",
   "metadata": {},
   "outputs": [
    {
     "ename": "TypeError",
     "evalue": "WebDriver.__init__() got an unexpected keyword argument 'service'",
     "output_type": "error",
     "traceback": [
      "\u001b[31m---------------------------------------------------------------------------\u001b[39m",
      "\u001b[31mTypeError\u001b[39m                                 Traceback (most recent call last)",
      "\u001b[36mCell\u001b[39m\u001b[36m \u001b[39m\u001b[32mIn[1]\u001b[39m\u001b[32m, line 6\u001b[39m\n\u001b[32m      3\u001b[39m \u001b[38;5;28;01mfrom\u001b[39;00m\u001b[38;5;250m \u001b[39m\u001b[34;01mwebdriver_manager\u001b[39;00m\u001b[34;01m.\u001b[39;00m\u001b[34;01mchrome\u001b[39;00m\u001b[38;5;250m \u001b[39m\u001b[38;5;28;01mimport\u001b[39;00m ChromeDriverManager\n\u001b[32m      5\u001b[39m service = Service(ChromeDriverManager().install())\n\u001b[32m----> \u001b[39m\u001b[32m6\u001b[39m driver = \u001b[43mwebdriver\u001b[49m\u001b[43m.\u001b[49m\u001b[43mChrome\u001b[49m\u001b[43m(\u001b[49m\u001b[43mservice\u001b[49m\u001b[43m=\u001b[49m\u001b[43mservice\u001b[49m\u001b[43m)\u001b[49m\n",
      "\u001b[31mTypeError\u001b[39m: WebDriver.__init__() got an unexpected keyword argument 'service'"
     ]
    }
   ],
   "source": [
    "from selenium import webdriver\n",
    "from selenium.webdriver.chrome.service import Service\n",
    "from webdriver_manager.chrome import ChromeDriverManager\n",
    "\n",
    "service = Service(ChromeDriverManager().install())\n",
    "driver = webdriver.Chrome(service=service)"
   ]
  },
  {
   "cell_type": "code",
   "execution_count": 3,
   "id": "febc3f7d-826b-4579-8877-a9640ac50872",
   "metadata": {},
   "outputs": [
    {
     "name": "stdout",
     "output_type": "stream",
     "text": [
      "Requirement already satisfied: selenium in c:\\users\\arpit\\anaconda3\\envs\\20th_century\\lib\\site-packages (3.141.0)\n",
      "Collecting selenium\n",
      "  Downloading selenium-4.35.0-py3-none-any.whl.metadata (7.4 kB)\n",
      "Collecting urllib3<3.0,>=2.5.0 (from urllib3[socks]<3.0,>=2.5.0->selenium)\n",
      "  Downloading urllib3-2.5.0-py3-none-any.whl.metadata (6.5 kB)\n",
      "Collecting trio~=0.30.0 (from selenium)\n",
      "  Downloading trio-0.30.0-py3-none-any.whl.metadata (8.5 kB)\n",
      "Collecting trio-websocket~=0.12.2 (from selenium)\n",
      "  Downloading trio_websocket-0.12.2-py3-none-any.whl.metadata (5.1 kB)\n",
      "Requirement already satisfied: certifi>=2025.6.15 in c:\\users\\arpit\\anaconda3\\envs\\20th_century\\lib\\site-packages (from selenium) (2025.8.3)\n",
      "Requirement already satisfied: typing_extensions~=4.14.0 in c:\\users\\arpit\\anaconda3\\envs\\20th_century\\lib\\site-packages (from selenium) (4.14.1)\n",
      "Collecting websocket-client~=1.8.0 (from selenium)\n",
      "  Downloading websocket_client-1.8.0-py3-none-any.whl.metadata (8.0 kB)\n",
      "Collecting attrs>=23.2.0 (from trio~=0.30.0->selenium)\n",
      "  Downloading attrs-25.3.0-py3-none-any.whl.metadata (10 kB)\n",
      "Collecting sortedcontainers (from trio~=0.30.0->selenium)\n",
      "  Downloading sortedcontainers-2.4.0-py2.py3-none-any.whl.metadata (10 kB)\n",
      "Requirement already satisfied: idna in c:\\users\\arpit\\anaconda3\\envs\\20th_century\\lib\\site-packages (from trio~=0.30.0->selenium) (3.10)\n",
      "Collecting outcome (from trio~=0.30.0->selenium)\n",
      "  Downloading outcome-1.3.0.post0-py2.py3-none-any.whl.metadata (2.6 kB)\n",
      "Collecting sniffio>=1.3.0 (from trio~=0.30.0->selenium)\n",
      "  Downloading sniffio-1.3.1-py3-none-any.whl.metadata (3.9 kB)\n",
      "Collecting cffi>=1.14 (from trio~=0.30.0->selenium)\n",
      "  Downloading cffi-1.17.1-cp311-cp311-win_amd64.whl.metadata (1.6 kB)\n",
      "Collecting wsproto>=0.14 (from trio-websocket~=0.12.2->selenium)\n",
      "  Downloading wsproto-1.2.0-py3-none-any.whl.metadata (5.6 kB)\n",
      "Collecting pysocks!=1.5.7,<2.0,>=1.5.6 (from urllib3[socks]<3.0,>=2.5.0->selenium)\n",
      "  Downloading PySocks-1.7.1-py3-none-any.whl.metadata (13 kB)\n",
      "Collecting pycparser (from cffi>=1.14->trio~=0.30.0->selenium)\n",
      "  Downloading pycparser-2.22-py3-none-any.whl.metadata (943 bytes)\n",
      "Collecting h11<1,>=0.9.0 (from wsproto>=0.14->trio-websocket~=0.12.2->selenium)\n",
      "  Downloading h11-0.16.0-py3-none-any.whl.metadata (8.3 kB)\n",
      "Downloading selenium-4.35.0-py3-none-any.whl (9.6 MB)\n",
      "   ---------------------------------------- 0.0/9.6 MB ? eta -:--:--\n",
      "   ----- ---------------------------------- 1.3/9.6 MB 7.5 MB/s eta 0:00:02\n",
      "   ------------ --------------------------- 2.9/9.6 MB 7.3 MB/s eta 0:00:01\n",
      "   ----------------- ---------------------- 4.2/9.6 MB 7.4 MB/s eta 0:00:01\n",
      "   ------------------------ --------------- 5.8/9.6 MB 7.3 MB/s eta 0:00:01\n",
      "   ------------------------------ --------- 7.3/9.6 MB 7.3 MB/s eta 0:00:01\n",
      "   ------------------------------------- -- 8.9/9.6 MB 7.3 MB/s eta 0:00:01\n",
      "   ---------------------------------------- 9.6/9.6 MB 7.1 MB/s  0:00:01\n",
      "Downloading trio-0.30.0-py3-none-any.whl (499 kB)\n",
      "Downloading trio_websocket-0.12.2-py3-none-any.whl (21 kB)\n",
      "Downloading urllib3-2.5.0-py3-none-any.whl (129 kB)\n",
      "Downloading PySocks-1.7.1-py3-none-any.whl (16 kB)\n",
      "Downloading websocket_client-1.8.0-py3-none-any.whl (58 kB)\n",
      "Downloading attrs-25.3.0-py3-none-any.whl (63 kB)\n",
      "Downloading cffi-1.17.1-cp311-cp311-win_amd64.whl (181 kB)\n",
      "Downloading outcome-1.3.0.post0-py2.py3-none-any.whl (10 kB)\n",
      "Downloading sniffio-1.3.1-py3-none-any.whl (10 kB)\n",
      "Downloading wsproto-1.2.0-py3-none-any.whl (24 kB)\n",
      "Downloading h11-0.16.0-py3-none-any.whl (37 kB)\n",
      "Downloading pycparser-2.22-py3-none-any.whl (117 kB)\n",
      "Downloading sortedcontainers-2.4.0-py2.py3-none-any.whl (29 kB)\n",
      "Installing collected packages: sortedcontainers, websocket-client, urllib3, sniffio, pysocks, pycparser, h11, attrs, wsproto, outcome, cffi, trio, trio-websocket, selenium\n",
      "\n",
      "   -- -------------------------------------  1/14 [websocket-client]\n",
      "  Attempting uninstall: urllib3\n",
      "   -- -------------------------------------  1/14 [websocket-client]\n",
      "    Found existing installation: urllib3 1.26.20\n",
      "   -- -------------------------------------  1/14 [websocket-client]\n",
      "    Uninstalling urllib3-1.26.20:\n",
      "   -- -------------------------------------  1/14 [websocket-client]\n",
      "      Successfully uninstalled urllib3-1.26.20\n",
      "   -- -------------------------------------  1/14 [websocket-client]\n",
      "   ----- ----------------------------------  2/14 [urllib3]\n",
      "   ----- ----------------------------------  2/14 [urllib3]\n",
      "   -------------- -------------------------  5/14 [pycparser]\n",
      "   -------------- -------------------------  5/14 [pycparser]\n",
      "   -------------------- -------------------  7/14 [attrs]\n",
      "   ---------------------------- ----------- 10/14 [cffi]\n",
      "   ---------------------------- ----------- 10/14 [cffi]\n",
      "   ------------------------------- -------- 11/14 [trio]\n",
      "   ------------------------------- -------- 11/14 [trio]\n",
      "   ------------------------------- -------- 11/14 [trio]\n",
      "   ------------------------------- -------- 11/14 [trio]\n",
      "   ------------------------------- -------- 11/14 [trio]\n",
      "   ------------------------------- -------- 11/14 [trio]\n",
      "   ------------------------------- -------- 11/14 [trio]\n",
      "  Attempting uninstall: selenium\n",
      "   ------------------------------- -------- 11/14 [trio]\n",
      "    Found existing installation: selenium 3.141.0\n",
      "   ------------------------------- -------- 11/14 [trio]\n",
      "    Uninstalling selenium-3.141.0:\n",
      "   ------------------------------- -------- 11/14 [trio]\n",
      "      Successfully uninstalled selenium-3.141.0\n",
      "   ------------------------------- -------- 11/14 [trio]\n",
      "   ------------------------------------- -- 13/14 [selenium]\n",
      "   ------------------------------------- -- 13/14 [selenium]\n",
      "   ------------------------------------- -- 13/14 [selenium]\n",
      "   ------------------------------------- -- 13/14 [selenium]\n",
      "   ------------------------------------- -- 13/14 [selenium]\n",
      "   ------------------------------------- -- 13/14 [selenium]\n",
      "   ------------------------------------- -- 13/14 [selenium]\n",
      "   ------------------------------------- -- 13/14 [selenium]\n",
      "   ------------------------------------- -- 13/14 [selenium]\n",
      "   ------------------------------------- -- 13/14 [selenium]\n",
      "   ------------------------------------- -- 13/14 [selenium]\n",
      "   ------------------------------------- -- 13/14 [selenium]\n",
      "   ------------------------------------- -- 13/14 [selenium]\n",
      "   ------------------------------------- -- 13/14 [selenium]\n",
      "   ------------------------------------- -- 13/14 [selenium]\n",
      "   ------------------------------------- -- 13/14 [selenium]\n",
      "   ------------------------------------- -- 13/14 [selenium]\n",
      "   ---------------------------------------- 14/14 [selenium]\n",
      "\n",
      "Successfully installed attrs-25.3.0 cffi-1.17.1 h11-0.16.0 outcome-1.3.0.post0 pycparser-2.22 pysocks-1.7.1 selenium-4.35.0 sniffio-1.3.1 sortedcontainers-2.4.0 trio-0.30.0 trio-websocket-0.12.2 urllib3-2.5.0 websocket-client-1.8.0 wsproto-1.2.0\n",
      "Note: you may need to restart the kernel to use updated packages.\n"
     ]
    },
    {
     "name": "stderr",
     "output_type": "stream",
     "text": [
      "ERROR: pip's dependency resolver does not currently take into account all the packages that are installed. This behaviour is the source of the following dependency conflicts.\n",
      "requests 2.28.1 requires urllib3<1.27,>=1.21.1, but you have urllib3 2.5.0 which is incompatible.\n"
     ]
    }
   ],
   "source": [
    "%pip install --upgrade selenium"
   ]
  },
  {
   "cell_type": "code",
   "execution_count": 5,
   "id": "05a55a12-6805-431b-9856-2f9b006de8ff",
   "metadata": {},
   "outputs": [
    {
     "name": "stdout",
     "output_type": "stream",
     "text": [
      "Collecting urllib3<1.27,>=1.21.1\n",
      "  Using cached urllib3-1.26.20-py2.py3-none-any.whl.metadata (50 kB)\n",
      "Using cached urllib3-1.26.20-py2.py3-none-any.whl (144 kB)\n",
      "Installing collected packages: urllib3\n",
      "  Attempting uninstall: urllib3\n",
      "    Found existing installation: urllib3 2.5.0\n",
      "    Uninstalling urllib3-2.5.0:\n",
      "      Successfully uninstalled urllib3-2.5.0\n",
      "Successfully installed urllib3-1.26.20\n",
      "Note: you may need to restart the kernel to use updated packages.\n"
     ]
    },
    {
     "name": "stderr",
     "output_type": "stream",
     "text": [
      "ERROR: pip's dependency resolver does not currently take into account all the packages that are installed. This behaviour is the source of the following dependency conflicts.\n",
      "selenium 4.35.0 requires urllib3[socks]<3.0,>=2.5.0, but you have urllib3 1.26.20 which is incompatible.\n"
     ]
    }
   ],
   "source": [
    "%pip install \"urllib3<1.27,>=1.21.1\""
   ]
  },
  {
   "cell_type": "code",
   "execution_count": 7,
   "id": "526143c3-40ca-4032-b453-9c19e4dd2346",
   "metadata": {},
   "outputs": [
    {
     "name": "stdout",
     "output_type": "stream",
     "text": [
      "Requirement already satisfied: requests in c:\\users\\arpit\\anaconda3\\envs\\20th_century\\lib\\site-packages (2.28.1)\n",
      "Collecting requests\n",
      "  Downloading requests-2.32.5-py3-none-any.whl.metadata (4.9 kB)\n",
      "Requirement already satisfied: urllib3 in c:\\users\\arpit\\anaconda3\\envs\\20th_century\\lib\\site-packages (1.26.20)\n",
      "Collecting urllib3\n",
      "  Using cached urllib3-2.5.0-py3-none-any.whl.metadata (6.5 kB)\n",
      "Requirement already satisfied: charset_normalizer<4,>=2 in c:\\users\\arpit\\anaconda3\\envs\\20th_century\\lib\\site-packages (from requests) (2.1.1)\n",
      "Requirement already satisfied: idna<4,>=2.5 in c:\\users\\arpit\\anaconda3\\envs\\20th_century\\lib\\site-packages (from requests) (3.10)\n",
      "Requirement already satisfied: certifi>=2017.4.17 in c:\\users\\arpit\\anaconda3\\envs\\20th_century\\lib\\site-packages (from requests) (2025.8.3)\n",
      "Downloading requests-2.32.5-py3-none-any.whl (64 kB)\n",
      "Using cached urllib3-2.5.0-py3-none-any.whl (129 kB)\n",
      "Installing collected packages: urllib3, requests\n",
      "\n",
      "  Attempting uninstall: urllib3\n",
      "\n",
      "    Found existing installation: urllib3 1.26.20\n",
      "\n",
      "    Uninstalling urllib3-1.26.20:\n",
      "\n",
      "      Successfully uninstalled urllib3-1.26.20\n",
      "\n",
      "  Attempting uninstall: requests\n",
      "\n",
      "    Found existing installation: requests 2.28.1\n",
      "\n",
      "    Uninstalling requests-2.28.1:\n",
      "\n",
      "      Successfully uninstalled requests-2.28.1\n",
      "\n",
      "   -------------------- ------------------- 1/2 [requests]\n",
      "   ---------------------------------------- 2/2 [requests]\n",
      "\n",
      "Successfully installed requests-2.32.5 urllib3-2.5.0\n",
      "Note: you may need to restart the kernel to use updated packages.\n"
     ]
    }
   ],
   "source": [
    "%pip install --upgrade requests urllib3"
   ]
  },
  {
   "cell_type": "code",
   "execution_count": 9,
   "id": "b30b8efc-8fa9-41a3-93ba-eb2845f01cd7",
   "metadata": {},
   "outputs": [
    {
     "name": "stdout",
     "output_type": "stream",
     "text": [
      "requests: 2.28.1\n",
      "urllib3: 1.26.20\n",
      "selenium: 3.141.0\n"
     ]
    }
   ],
   "source": [
    "import requests, urllib3, selenium\n",
    "print(\"requests:\", requests.__version__)\n",
    "print(\"urllib3:\", urllib3.__version__)\n",
    "print(\"selenium:\", selenium.__version__)"
   ]
  },
  {
   "cell_type": "code",
   "execution_count": 11,
   "id": "d4b8922b-f314-4690-bbf1-59009b0cb4a2",
   "metadata": {},
   "outputs": [
    {
     "name": "stdout",
     "output_type": "stream",
     "text": [
      "Requirement already satisfied: requests>=2.32.3 in c:\\users\\arpit\\anaconda3\\envs\\20th_century\\lib\\site-packages (2.32.5)\n",
      "Requirement already satisfied: urllib3>=2.5.0 in c:\\users\\arpit\\anaconda3\\envs\\20th_century\\lib\\site-packages (2.5.0)\n",
      "Requirement already satisfied: selenium>=4.21.0 in c:\\users\\arpit\\anaconda3\\envs\\20th_century\\lib\\site-packages (4.35.0)\n",
      "Requirement already satisfied: webdriver-manager==4.0.1 in c:\\users\\arpit\\anaconda3\\envs\\20th_century\\lib\\site-packages (4.0.1)\n",
      "Requirement already satisfied: python-dotenv in c:\\users\\arpit\\anaconda3\\envs\\20th_century\\lib\\site-packages (from webdriver-manager==4.0.1) (1.1.1)\n",
      "Requirement already satisfied: packaging in c:\\users\\arpit\\anaconda3\\envs\\20th_century\\lib\\site-packages (from webdriver-manager==4.0.1) (25.0)\n",
      "Requirement already satisfied: charset_normalizer<4,>=2 in c:\\users\\arpit\\anaconda3\\envs\\20th_century\\lib\\site-packages (from requests>=2.32.3) (2.1.1)\n",
      "Requirement already satisfied: idna<4,>=2.5 in c:\\users\\arpit\\anaconda3\\envs\\20th_century\\lib\\site-packages (from requests>=2.32.3) (3.10)\n",
      "Requirement already satisfied: certifi>=2017.4.17 in c:\\users\\arpit\\anaconda3\\envs\\20th_century\\lib\\site-packages (from requests>=2.32.3) (2025.8.3)\n",
      "Requirement already satisfied: trio~=0.30.0 in c:\\users\\arpit\\anaconda3\\envs\\20th_century\\lib\\site-packages (from selenium>=4.21.0) (0.30.0)\n",
      "Requirement already satisfied: trio-websocket~=0.12.2 in c:\\users\\arpit\\anaconda3\\envs\\20th_century\\lib\\site-packages (from selenium>=4.21.0) (0.12.2)\n",
      "Requirement already satisfied: typing_extensions~=4.14.0 in c:\\users\\arpit\\anaconda3\\envs\\20th_century\\lib\\site-packages (from selenium>=4.21.0) (4.14.1)\n",
      "Requirement already satisfied: websocket-client~=1.8.0 in c:\\users\\arpit\\anaconda3\\envs\\20th_century\\lib\\site-packages (from selenium>=4.21.0) (1.8.0)\n",
      "Requirement already satisfied: attrs>=23.2.0 in c:\\users\\arpit\\anaconda3\\envs\\20th_century\\lib\\site-packages (from trio~=0.30.0->selenium>=4.21.0) (25.3.0)\n",
      "Requirement already satisfied: sortedcontainers in c:\\users\\arpit\\anaconda3\\envs\\20th_century\\lib\\site-packages (from trio~=0.30.0->selenium>=4.21.0) (2.4.0)\n",
      "Requirement already satisfied: outcome in c:\\users\\arpit\\anaconda3\\envs\\20th_century\\lib\\site-packages (from trio~=0.30.0->selenium>=4.21.0) (1.3.0.post0)\n",
      "Requirement already satisfied: sniffio>=1.3.0 in c:\\users\\arpit\\anaconda3\\envs\\20th_century\\lib\\site-packages (from trio~=0.30.0->selenium>=4.21.0) (1.3.1)\n",
      "Requirement already satisfied: cffi>=1.14 in c:\\users\\arpit\\anaconda3\\envs\\20th_century\\lib\\site-packages (from trio~=0.30.0->selenium>=4.21.0) (1.17.1)\n",
      "Requirement already satisfied: wsproto>=0.14 in c:\\users\\arpit\\anaconda3\\envs\\20th_century\\lib\\site-packages (from trio-websocket~=0.12.2->selenium>=4.21.0) (1.2.0)\n",
      "Requirement already satisfied: pysocks!=1.5.7,<2.0,>=1.5.6 in c:\\users\\arpit\\anaconda3\\envs\\20th_century\\lib\\site-packages (from urllib3[socks]<3.0,>=2.5.0->selenium>=4.21.0) (1.7.1)\n",
      "Requirement already satisfied: pycparser in c:\\users\\arpit\\anaconda3\\envs\\20th_century\\lib\\site-packages (from cffi>=1.14->trio~=0.30.0->selenium>=4.21.0) (2.22)\n",
      "Requirement already satisfied: h11<1,>=0.9.0 in c:\\users\\arpit\\anaconda3\\envs\\20th_century\\lib\\site-packages (from wsproto>=0.14->trio-websocket~=0.12.2->selenium>=4.21.0) (0.16.0)\n",
      "Note: you may need to restart the kernel to use updated packages.\n"
     ]
    }
   ],
   "source": [
    "%pip install --upgrade \"requests>=2.32.3\" \"urllib3>=2.5.0\" \"selenium>=4.21.0\" \"webdriver-manager==4.0.1\""
   ]
  },
  {
   "cell_type": "code",
   "execution_count": 1,
   "id": "9ef9eff5-bb7a-4087-8913-49a8c34073a8",
   "metadata": {},
   "outputs": [
    {
     "name": "stdout",
     "output_type": "stream",
     "text": [
      "requests: 2.32.5\n",
      "urllib3: 2.5.0\n",
      "selenium: 4.35.0\n"
     ]
    }
   ],
   "source": [
    "import requests, urllib3, selenium\n",
    "print(\"requests:\", requests.__version__)   # expect >= 2.32.x\n",
    "print(\"urllib3:\", urllib3.__version__)     # expect >= 2.5.x\n",
    "print(\"selenium:\", selenium.__version__)   # expect >= 4.21.0"
   ]
  },
  {
   "cell_type": "code",
   "execution_count": 11,
   "id": "7b87611f-5f08-4dae-91d0-337dd67d24a5",
   "metadata": {},
   "outputs": [
    {
     "name": "stdout",
     "output_type": "stream",
     "text": [
      "Working directory: C:\\Users\\arpit\\Documents\\CareerFoundry\n"
     ]
    }
   ],
   "source": [
    "from selenium import webdriver\n",
    "from selenium.webdriver.chrome.options import Options\n",
    "from selenium.webdriver.common.by import By\n",
    "from selenium.webdriver.support.ui import WebDriverWait\n",
    "from selenium.webdriver.support import expected_conditions as EC\n",
    "from bs4 import BeautifulSoup\n",
    "import time, os, pathlib\n",
    "\n",
    "# --- TARGET URL (yours) ---\n",
    "TARGET_URL = \"https://en.wikipedia.org/wiki/Key_events_of_the_20th_century\"\n",
    "\n",
    "# Output filenames\n",
    "OUT_HTML = \"key_events_20th_century_raw.html\"\n",
    "OUT_TXT  = \"key_events_20th_century_text.txt\"\n",
    "\n",
    "print(\"Working directory:\", os.getcwd())\n",
    "\n",
    "# Headless browser (remove --headless=new if you want to see the window)\n",
    "chrome_options = Options()\n",
    "chrome_options.add_argument(\"--headless=new\")\n",
    "chrome_options.add_argument(\"--disable-gpu\")\n",
    "chrome_options.add_argument(\"--no-sandbox\")\n",
    "chrome_options.add_argument(\"--window-size=1920,1080\")"
   ]
  },
  {
   "cell_type": "code",
   "execution_count": 13,
   "id": "5857610d-a1ed-4d73-9688-0bbc40ecde6e",
   "metadata": {},
   "outputs": [
    {
     "name": "stdout",
     "output_type": "stream",
     "text": [
      "Page loaded.\n"
     ]
    }
   ],
   "source": [
    "driver = webdriver.Chrome(options=chrome_options)\n",
    "driver.get(TARGET_URL)\n",
    "\n",
    "# Wait for main content container to render\n",
    "WebDriverWait(driver, 25).until(\n",
    "    EC.presence_of_element_located((By.ID, \"mw-content-text\"))\n",
    ")\n",
    "time.sleep(1)  # small buffer for dynamic content\n",
    "print(\"Page loaded.\")"
   ]
  },
  {
   "cell_type": "code",
   "execution_count": 15,
   "id": "b1461959-e50b-4428-bf22-a968b4e117f1",
   "metadata": {},
   "outputs": [
    {
     "name": "stdout",
     "output_type": "stream",
     "text": [
      "Saved raw HTML -> C:\\Users\\arpit\\Documents\\CareerFoundry\\key_events_20th_century_raw.html\n"
     ]
    }
   ],
   "source": [
    "html = driver.page_source\n",
    "with open(OUT_HTML, \"w\", encoding=\"utf-8\") as f:\n",
    "    f.write(html)\n",
    "print(\"Saved raw HTML ->\", pathlib.Path(OUT_HTML).resolve())"
   ]
  },
  {
   "cell_type": "code",
   "execution_count": 17,
   "id": "0858cd92-a378-490f-bf43-bbaef1ab337c",
   "metadata": {},
   "outputs": [
    {
     "name": "stdout",
     "output_type": "stream",
     "text": [
      "Saved clean text -> C:\\Users\\arpit\\Documents\\CareerFoundry\\key_events_20th_century_text.txt\n"
     ]
    }
   ],
   "source": [
    "soup = BeautifulSoup(html, \"lxml\")\n",
    "\n",
    "# Wikipedia article content lives under this container\n",
    "content = soup.select_one(\"#mw-content-text .mw-parser-output\")\n",
    "if not content:\n",
    "    # Fallback to entire body if selector fails\n",
    "    content = soup.body\n",
    "\n",
    "# Remove non-content elements (infoboxes, references, tables, navboxes, etc.)\n",
    "for sel in [\n",
    "    \".infobox\", \".toc\", \".navbox\", \".metadata\", \".catlinks\", \".reflist\",\n",
    "    \".hatnote\", \".mw-editsection\", \".shortdescription\", \".sistersitebox\",\n",
    "    \".refbegin\", \".navbox\", \".mbox-small\", \".ambox\", \".vertical-navbox\",\n",
    "]:\n",
    "    for tag in content.select(sel):\n",
    "        tag.decompose()\n",
    "\n",
    "# Also strip scripts/styles\n",
    "for tag in content.find_all([\"script\", \"style\", \"noscript\"]):\n",
    "    tag.decompose()\n",
    "\n",
    "# Build a structured text: keep headings and text blocks in order\n",
    "lines = []\n",
    "for node in content.children:\n",
    "    name = getattr(node, \"name\", None)\n",
    "    if name in [\"h1\", \"h2\", \"h3\", \"h4\"]:\n",
    "        heading = node.get_text(strip=True)\n",
    "        if heading:\n",
    "            # Format headings with # for readability\n",
    "            prefix = \"#\" * (int(name[1]))  # h2 -> ##\n",
    "            lines.append(f\"{prefix} {heading}\")\n",
    "    elif name in [\"p\"]:\n",
    "        txt = node.get_text(\" \", strip=True)\n",
    "        if txt:\n",
    "            lines.append(txt)\n",
    "    elif name in [\"ul\", \"ol\"]:\n",
    "        for li in node.find_all(\"li\", recursive=False):\n",
    "            item = li.get_text(\" \", strip=True)\n",
    "            if item:\n",
    "                lines.append(f\"- {item}\")\n",
    "\n",
    "clean_text = \"\\n\".join(lines)\n",
    "\n",
    "with open(OUT_TXT, \"w\", encoding=\"utf-8\") as f:\n",
    "    f.write(clean_text)\n",
    "\n",
    "print(\"Saved clean text ->\", pathlib.Path(OUT_TXT).resolve())\n"
   ]
  },
  {
   "cell_type": "code",
   "execution_count": 19,
   "id": "956f3c1a-11c0-4020-811e-3c8a36b4d29e",
   "metadata": {},
   "outputs": [
    {
     "name": "stdout",
     "output_type": "stream",
     "text": [
      "The 20th century changed the world in unprecedented ways. The World Wars sparked tension between countries and led to the creation of atomic bombs , the Cold War led to the Space Race and the creation of space-based rockets, and the World Wide Web was created. These advancements have played a significant role in citizens' lives and shaped the 21st century into what it is today.\n",
      "The new beginning of the 20th century marked significant changes. The 1900s saw the decade herald a series of inventions, including the automobile , airplane and radio broadcasting . 1914 saw the completion of the Panama Canal .\n",
      "The Scramble for Africa continued in the 1900s and resulted in wars and genocide across the continent. The atrocities in the Congo Free State shocked the uncolonised world.\n",
      "From 1914 to 1918, the First World War, and its aftermath, caused major changes in the power balance of the world, destroying or transforming some of the most powerful empires.\n",
      "The First World War (or simply WWI), termed \"The Great War\" by contemporaries, started in July 1914 and ended in November 1918. The war was precipitated by the Assassination in Sarajevo of the Austro-Hungarian Empire 's heir to the throne, Erzherzog Franz Ferdinand , by Gavrilo Princip , a member of the Young Bosnia liberation movement. After a period of diplomatic and military escalation known as the July Crisis , by the end of July 1914 two coalitions were at war: the Allies, comprised initially of the British Empire , France , and the Russian Empire ; and the Central Powers , comprised initially of the German Empire and Austria-Hungary . [ 1 ] [ 2 ]\n",
      "In 1917, Russia ended hostile actions against the Central Powers after the fall of the Tsar. The Bolsheviks negotiated the Treaty of Brest-Litovsk with Germany, although it was a huge cost to Russia. In the treaty, Bolshevik Russia ceded the Baltic states to Germany, and its province of Kars Oblast in the South Caucasus to the Ottoman Empire . It also recognized the independence of Ukraine . [ 3 ] Although Germany shifted huge forces from the eastern to the western front after signing the treaty, it was unable to stop the Allied advance, especially with the entrance of American troops in 1918. [ 4 ]\n",
      "The war itself was also a chance for the combatant nations to show off their military strength and technological ingenuity. The Germans introduced the machine gun, [ 5 ] U-boats [ 6 ] and deadly gases. [ 7 ] The British first used the tank . [ 8 ] Both sides had a chance to test out their new aircraft to see if they could be used in warfare. It was widely believed that the war would be short. Unfortunately, since trench warfare was the best form of defense, advances on both sides were very slow and came at a terrible cost to lives. [ 9 ]\n",
      "When the war was finally over in 1918, the results would set the stage for the next twenty years. First and foremost, the Germans were forced to sign the Treaty of Versailles , forcing them to make exorbitant payments to repair damages caused during the War. Many Germans felt these reparations were unfair because they did not actually \"lose\" the war nor did they feel they caused the war (see Stab-in-the-back legend ). [ 10 ] Germany was never occupied by Allied troops, yet it had to accept a liberal democratic government imposed on it by the victors after the abdication of Kaiser Wilhelm . [ 11 ]\n",
      "Much of the map of Europe was redrawn by the victors based upon the theory that future wars could be prevented if all ethnic groups had their own \"homeland\".  New states like Yugoslavia and Czechoslovakia were created out of the former Austro-Hungarian Empire to accommodate the nationalist aspirations of these groups. [ 12 ] An international body called the League of Nations was formed to mediate disputes and prevent future wars, although its effectiveness was severely limited by, among other things, its reluctance and inability to act. [ 13 ]\n",
      "From 1918 to 1920, a remarkably deadly worldwide pandemic caused by the flu broke out near the end of the war and spread globally. Estimates range from anywhere between 17 to 100 million deaths, [ 14 ] [ 15 ] [ 16 ] which staples it as the deadliest pandemic in human history . One of the reasons for the exceptionally high carnage was that wartime censorship was underway to preserve morale in the trenches, leading to poor hygiene. Combined with already existing malnourishment and overcrowded medical facilities, this mix made it all the more deadly. [ 17 ] [ 18 ]\n",
      "The Russian Revolution of 1917 (ending in the overthrow of the Tsarist regime and the execution of His Imperial Majesty Nicholas II and his family) sparked a wave of communist revolutions across Europe, prompting many to believe that a socialist world revolution could be realized in the near future. [ 19 ] However, the European revolutions were defeated, Vladimir Lenin died in 1924, and within a few years, Joseph Stalin displaced Leon Trotsky as the de facto leader of the Soviet Union . The idea of worldwide revolution was no longer in the forefront, as Stalin concentrated on \" socialism in one country \" [ 20 ] and embarked on a bold plan of collectivization and industrialization. [ 21 ] The majority of socialists and even many communists became disillusioned with Stalin's autocratic rule, his purges and the assassination of his \"enemies\", as well as the news of famines he imposed on his own people. [ 22 ]\n",
      "Communism was strengthened as a force in Western democracies when the global economy crashed in 1929 in what became known as the Great Depression . Many people saw this as the first stage of the end of the capitalist system and were attracted to Communism as a solution to the economic crisis, especially as the Soviet Union's economic development in the 1930s was strong, unaffected by the capitalist world's crisis. [ 23 ]\n",
      "After World War I, the global economy remained strong through most of the 1920s. The war had provided a stimulus for industry and economic activity in general. There were many warning signs foretelling the crash of 29 of the global economic system at the end of the decade, that were generally not understood by the political leadership of the time. [ 24 ] The responses to the crisis often made the situation worse, as millions of people watched their savings become next to worthless, and the idea of a steady job with a reasonable income fading away. [ 25 ]\n",
      "Many sought answers from alternative ideologies such as communism and fascism. [ 26 ] They believed that the capitalist economic system was collapsing and that new ideas were required to meet the crisis. The early responses to the crisis were based on the assumption that the free market would correct itself. This, however, did very little to correct the crisis or to alleviate the suffering of many ordinary people. Thus, the idea that the existing system could be reformed by government intervention in the economy, rather than by continuing the laissez-faire approach, became prominent as a solution to the crisis. Democratic governments assumed the responsibility to provide needed services in society, and to alleviate poverty, which soon gave birth to the welfare state . [ 27 ] These two politico-economic principles, the belief in government intervention and the welfare state, as opposed to the belief in the free market and private institutions, would define many political battles for the rest of the century.\n",
      "Fascism first appeared in Italy with the rise to power of Benito Mussolini in 1922. [ 28 ] The ideology was supported by a large proportion of the upper classes as a strong challenge to the threat of communism. [ 29 ]\n",
      "When Adolf Hitler came to power in Germany in 1933, a new variant of fascism called Nazism took over Germany and ended the German experiment with democracy. The Nazi Party in Germany was dedicated to the restoration of German honor and prestige, the unification of German-speaking peoples, and the annexation of Central and Eastern Europe as vassal states, with the Slavic population to act as slave labor to serve German economic interests. [ 30 ] There was also a strong appeal to a mythical racial purity (the idea that Germans were the Herrenvolk or the \"master race\"), and a vicious antisemitism which promoted the idea of Jews as subhuman ( Untermensch ) and worthy only of extermination. [ 31 ]\n",
      "Many people in Western Europe and the United States greeted the rise of Hitler with relief or indifference. [ 32 ] They could see nothing wrong with a strong Germany ready to take on the communist menace to the east. Antisemitism during the Great Depression was widespread as many were content to blame the Jews for causing the economic downturn. [ 33 ]\n",
      "Hitler began to put his plan in motion, annexing Austria in the Anschluss , or reunification of Austria to Germany, in 1938. [ 34 ] He then negotiated the annexation of the Sudetenland , a German-speaking mountainous area of Czechoslovakia , in the Munich Conference . [ 35 ] The British were eager to avoid war and believed Hitler's assurance to protect the security of the Czech state.  Hitler annexed the rest of the Czech state shortly afterwards, indicating that he had ulterior motives. [ 36 ]\n",
      "Fascism was not the only form of dictatorship to rise in the post-war period.  Almost all of the new democracies in the nations of Eastern Europe collapsed and were replaced by authoritarian regimes. [ 37 ] Spain also became a dictatorship under the leadership of General Francisco Franco after the Spanish Civil War . [ 38 ] Totalitarian states attempted to achieve total control over their subjects as well as their total loyalty. They held the state above the individual, and were often responsible for some of the worst acts in history, such as the Holocaust Adolf Hitler perpetrated on European Jews , or the Great Purge Stalin perpetrated in the Soviet Union in the 1930s.\n",
      "This section provides a conversational overview of World War II in Europe. See main article for a fuller discussion.\n",
      "Soon after the events in Czechoslovakia, Britain and France issued assurances of protection to Poland, which seemed to be next on Hitler's list. World War II officially began on 1 September 1939, when Hitler unleashed his Blitzkrieg , or lightning war, against Poland. Britain and France, much to Hitler's surprise, immediately declared war upon Germany, but the help they delivered to Poland was negligible. [ 39 ] Sixteen days later, Poland was attacked from the East by Soviet Union, acting in a secret alliance with Nazi Germany. [ 40 ] After only a few weeks, the Polish forces were overwhelmed, and its government fled to exile in London (see Polish government in Exile ).\n",
      "In starting World War II, the Germans had unleashed a new type of warfare, characterized by highly mobile forces and the use of massed aircraft. The German strategy concentrated upon the devotion of the Wehrmacht , or German army, to the use of tank groups, called panzer divisions, and groups of mobile infantry, in concert with relentless attacks from the air. Encirclement was also a major part of the strategy. This change smashed any expectations that the Second World War would be fought in the trenches like the first. [ 41 ]\n",
      "As Hitler's forces conquered Poland, the Soviet Union , under General Secretary Joseph Stalin , was acting out guarantees of territory under a secret part of a nonaggression pact between the USSR and Germany known as the Molotov–Ribbentrop Pact . This treaty gave Stalin free rein to take the Baltic republics of Estonia , Latvia, and Lithuania , as well as Eastern Poland, all of which would remain in Soviet possession after the war. [ 42 ] Stalin also launched an attack on Finland, which he hoped to reduce to little more than a Soviet puppet state, but the Red Army met staunch Finnish resistance in what became known as the Winter War and succeeded in gaining only limited territory from the Finns. [ 43 ] This action would later cause the Finns to ally with Germany when its attack on the Soviet Union came in 1941. [ 44 ]\n",
      "After the defeat of Poland, a period known as the Phony War ensued during the winter of 1939–1940, which saw only limited military land operation on the Western Front . [ 45 ] This changed when Hitler occupied Denmark and Norway, beginning on 9 April 1940. Norway was strategically important because of its sea routes which supplied crucial Swedish ore to the Nazi war machine. Norway held on for a few crucial weeks, but Denmark surrendered after only six hours . [ 46 ] [ 47 ] Sweden was the only Scandinavian country to successfully maintain its neutrality throughout the war, with occasional breaches of neutrality in favor of both Germany and the Western Allies . [ 48 ] On the 10 May 1940, when the Germans launched a massive attack on the Low Countries (Belgium, the Netherlands, and Luxembourg ), likely to surmount the Maginot Line of defenses on the Franco-German border. [ 49 ] This witnessed the incredible fall of Eben Emael , a Belgian fort considered impregnable and guarded by 600 Belgians, to a force of only 88 German paratroopers . The worst of this was that King Leopold III of Belgium surrendered to the Germans on 28 May without warning his allies, exposing the entire flank of the Allied forces to German panzer groups. [ 50 ]\n",
      "With the disaster in the Low Countries, France, considered at the time to have had the finest army in the world, lasted only six weeks, with Paris being occupied on 14 June. Three days later, Marshal Philippe Pétain surrendered to the Germans. [ 51 ] The debacle in France also led to one of the war's greatest mysteries, and Hitler's first great blunder, Dunkirk , where a third of a million trapped British and French soldiers were evacuated by not only British war boats, but every craft the army could find, including fishing boats. Hitler refused to \"risk\" his panzers on an action at Dunkirk, listening to the advice of Air Minister Hermann Göring and allowing the Luftwaffe , or German Air Force, to handle the job. [ 52 ] The irony of this was that the escaped men would form the core of the army that was to invade the beaches of Normandy in 1944. Hitler did not occupy all of France, but about three-quarters, including all of the Atlantic coast, allowing Marshal Pétain to remain as dictator of an area known as Vichy France . [ 53 ] However, members of the escaped French Army formed around General Charles de Gaulle to create the Free French forces, which would continue to battle Hitler in the stead of an independent France. [ 54 ] At this moment, Italy, under Benito Mussolini , declared war on the Allies on 10 June, thinking that the war was almost over, but he managed only to occupy a few hundred yards of French territory. [ 55 ] Throughout the war, the Italians would be more of a burden to the Nazis than a boon, and would later cost them precious time in Greece. [ 56 ] [ 57 ]\n",
      "Hitler now turned his eyes on Great Britain, which stood alone against him. He ordered his generals to draw up plans for an invasion, code named Operation Sea Lion , and ordered the Luftwaffe to launch a massive air war against the British isles, which would come to be known as the Battle of Britain . The British at first suffered steady losses, but eventually managed to turn the air war against Germany, taking down 2,698 German planes throughout the summer of 1940 to only 915 Royal Air Force (RAF) losses. [ 58 ] The key turning point came when the Germans discontinued successful attacks against British airplane factories and radar command and coordination stations and turned to civilian bombing known as terror bombing using the distinctive \"bomb\" sound created by the German dive-bomber, the Stuka . [ 59 ] The switch came after a small British bombing force had attacked Berlin. [ 60 ] Hitler was infuriated. However, his decision to switch the attacks' focus allowed the British to rebuild the RAF and eventually force the Germans to indefinitely postpone Sea Lion. [ 61 ]\n",
      "The importance of the Battle of Britain is that it marked the first of Hitler's defeats, however its overall impact was overshadowed by his later blunders in the east. Secondly, it marked the advent of radar as a major weapon in modern air war.  With radar, squadrons of fighters could be quickly assembled to respond to incoming bombers attempting to bomb civilian targets. It also allowed the identification of the type and a guess at the number of incoming enemy aircraft, as well as tracking of friendly airplanes. [ 62 ]\n",
      "Hitler, taken aback by his defeat over the skies of Britain, now turned his gaze eastward to the Soviet Union . Despite having signed the non-aggression pact with Stalin, Hitler despised communism and wished to destroy it in the land of its birth. He originally planned to launch the attack in early spring of 1941 to avoid the disastrous Russian winter. However, a pro-allied coup in Yugoslavia and Mussolini's almost utter defeat in his invasion of Greece from occupied Albania prompted Hitler to launch a personal campaign of revenge in Yugoslavia and to occupy Greece at the same time. [ 63 ] The Greeks would have a bitter revenge of sorts; the attack caused a delay of several crucial weeks of the invasion of the USSR, potentially hampering it. [ 64 ]\n",
      "On 22 June 1941, Hitler attacked Stalin with the largest army the world had ever seen . Over three million men and their weapons were put into service against the Soviet Union. [ 65 ] Stalin had been warned about the attack, both by other countries and by his own intelligence network, but he had refused to believe it. Therefore, the Soviet army was largely unprepared and suffered massive setbacks in the early part of the war, despite Stalin's orders to counterattack the Germans. [ 66 ] Throughout 1941, German forces, divided into 3 army groups (Army Group A, Army Group B, and Army Group C), occupied the territories of the present day Ukraine and Belarus , laid siege to Leningrad (present day Saint Petersburg), and advanced to within 15 miles of Moscow. At this critical moment, the Soviet people stalled the German Wehrmacht to a halt at the gates of Moscow. Stalin had planned to evacuate the city, and had already moved important government functions, but decided to stay and rally the city. Recently arrived troops from the east under the command of Marshal Georgy Zhukov counterattacked the Germans and drove them from Moscow. [ 67 ]\n",
      "Mussolini had launched an offensive in North Africa from Italian-controlled Libya into British-controlled Egypt. However, the British smashed the Italians and were on the verge of taking Libya. Hitler decided to help by sending in a few thousand troops, a Luftwaffe division, and the first-rate general Erwin Rommel . [ 68 ] Rommel managed to use his small force to repeatedly smash massively superior British forces and to recapture the port city of Tobruk and advance into Egypt . However, Hitler, embroiled in his invasion of the Soviet Union, refused to send Rommel any more troops, causing Rommel to retreat and preventing him from seizing the Middle East , where Axis-friendly regimes had taken root in Iraq and Persia (present-day Iran ). [ 69 ] [ 70 ]\n",
      "After the winter, Hitler launched a fresh offensive in the spring of 1942, with the aim of capturing the oil-rich Caucacus and the city of Stalingrad . However, he repeatedly switched his troops to where they were not needed. The offensive bogged down, and the entire 6th Army , considered the best of German troops, was trapped in Stalingrad. Hitler now refused to let 6th Army break out. He insisted that the German army would force its way in. Hermann Göring also assured Hitler that the Luftwaffe could supply the 6th Army adequately, when it could in reality only supply a minute fraction of the needed ammunition and rations . Eventually, the starved 6th Army surrendered, dealing a severe blow to the Germans. In the end, the defeat at Stalingrad was the turning point for the war in the east. [ 71 ]\n",
      "Meanwhile, the Japanese had attacked the United States at Pearl Harbor in Hawaii on 7 December 1941. This disastrous attack forced the Americans into the war. Parts of the German brass advised against declaring war on the US, arguing that since Japan was the aggressor, the Tripartite Pact didn't bind Germany to do so. However, Hitler hoped that Japan would be able to quickly defeat the US and then turn its attention on helping the effort against Russia. Both Germany and Italy declared war on the United States a few days after the attack. [ 72 ]\n",
      "Throughout the rest of 1942 and 1943, the Soviets began to gain ground against the Germans after some victories like the tank battle of Kursk . [ 73 ] By this time, Rommel had been forced to abandon North Africa after a defeat by Montgomery at El Alamein in what was the first decisive victory of the Allies over the Germany army, leading Churchill to declare it \" the end of the beginning \". [ 74 ] On several fronts, the Wehrmacht had encountered serious casualties that it could not replace. Hitler also insisted on a \"hold at all costs\" policy which forbade relinquishing any ground. He followed a \"fight to the last man\" policy that was completely ineffective. By the beginning of 1944, Hitler had lost all initiative in the Soviet Union, and was struggling even to hold back the tide turning against him. [ 75 ]\n",
      "From 1942 to 1944, the United States and Britain acted in only a limited manner in the European theater, much to the chagrin of Stalin. They drove out the Germans in Africa, invading Morocco and Algeria on 8 November 1942. [ 76 ] Then, on 10 July 1943, the Allies invaded Sicily , in preparation for an advance through Italy, the \"soft underbelly\" of the Axis, as Winston Churchill called it. On 9 September, the invasion of Italy began. [ 77 ] By the winter of 1943, the southern half of Italy was in Allied hands. The Italians, most of whom did not really support the war, had already turned against Mussolini. In July, he had been stripped of power and taken prisoner, though the Italians feigned continued support of the Axis. On 8 September, the Italians formally surrendered, [ 78 ] but most of Italy not in Allied hands was controlled by German troops and those loyal to Mussolini's (Mussolini had been freed by German paratroopers) new Italian Social Republic , which in reality consisted of the shrinking zone of German control. The Germans offered staunch resistance, but by 4 June 1944, Rome had fallen. [ 79 ]\n",
      "The Battle of the Atlantic took place from 1942 to 1944 and was described as \"longest, largest, and most complex naval battle in history\". [ 80 ] The Germans hoped to sever the vital supply lines between Britain and America, sinking many tons of shipping with U-boats , German submarines. However, the development of the destroyer and aircraft with a longer patrol range were effective at countering the U-boat threat and by December 1943, the Germans had lost the battle. [ 81 ]\n",
      "On 6 June 1944, the Western Allies finally launched the long-awaited assault on \"Fortress Europe\" so wanted by Stalin. The offensive, codenamed Operation Overlord , began the early morning hours of 6 June. The day, known as D-day , was marked by foul weather.  Rommel, who was now in charge of defending France against possible Allied attack, thought the Allies would not attack during the stormy weather, and was on holiday in Germany. [ 82 ] Besides this, the Germans were expecting an attack, but at the natural harbor of Calais and not the beaches of Normandy ; They did not know about the Allies' artificial harbours , and false leads planted by the Allies suggested Calais as the landing site. [ 83 ]\n",
      "By this time, the war was looking ever darker for Germany. On 20 July 1944, a group of conspiring German officers attempted to assassinate Hitler. The bomb they used did injure him, but the second was not used, and a table shielded Hitler in a stroke of luck. [ 84 ] The plotters still could have launched a coup, but only the head of occupied Paris acted, arresting SS and Gestapo forces in the city. The German propaganda minister, Joseph Goebbels , rallied the Nazis and hunted down the conspirators, arresting up to 7000 people in the wake of the plot, according to some estimates. [ 85 ]\n",
      "In France, the Allies took Normandy and finally Paris on 25 August. [ 86 ] In the east, the Soviets had advanced almost to the former Polish-Soviet border. At this time, Hitler introduced the V-weapons , the V-1 flying bomb and, later, the V-2 , the first rockets used in modern warfare. The V-1 was often intercepted by air pilots, but the V-2 was extremely fast and carried a large payload. However, this advance came too late in the war to have any real effect. [ 87 ] The Germans were also on the verge of introducing a number of terrifying new weapons, including advanced jet aircraft, which were too fast for ordinary propeller aircraft, and submarine improvements which would allow the Germans to again fight effectively in the Atlantic. All this came too late to save Hitler. Although a September invasion of The Netherlands failed, the Allies made steady advances. In the winter of 1944, Hitler put everything into one last desperate gamble in the West, known as the Battle of the Bulge , which, despite an initial advance, was a failure, because the introduction of new Allied tanks and low troop numbers among the Germans prevented any real action being taken. Nevertheless, it was one of the bloodiest battles of the war and the second costliest battle in the history of the American Army . [ 88 ]\n",
      "In early February 1945, the three Allied leaders, Franklin Roosevelt , Winston Churchill , and Joseph Stalin , met at newly liberated Yalta in the Crimea in the Soviet Union in the Yalta Conference . [ 89 ] Here, they agreed upon a plan to divide post-war Europe. Most of the east went to Stalin, who agreed to allow free elections in Eastern Europe, which he never did. The west went to Britain, France, and the U.S. Post-war Germany would be split between the four, as would Berlin. This division of spheres of influence would set up international diplomacy for the Cold War that would dominate the second half of the century. [ 90 ]\n",
      "At the beginning of 1945, Hitler was on his last strings. The Soviets launched a devastating attack from Poland into Germany and Eastern Europe, intending to take Berlin. The Germans collapsed in the West, allowing the Allies to fan out across Germany. However, the Supreme Allied Commander, American general Dwight D. Eisenhower , refused to strike for Berlin, and instead became obsessed with reports of possible guerrilla activity in southern Germany, which in reality existed mainly in the propaganda of Joseph Goebbels. [ 91 ] By 25 April the Soviets had besieged Berlin. Hitler remained in the city in a bunker under the Chancellery garden. On 30 April he committed suicide by shooting himself, after a ritual wedding with his longtime mistress Eva Braun . [ 92 ] The Germans held out another 7 days under Admiral Doenitz , their new leader, but the Germans surrendered unconditionally on 7 May 1945, ending the war in Europe (see V-E Day ). [ 93 ]\n"
     ]
    }
   ],
   "source": [
    "with open(OUT_TXT, \"r\", encoding=\"utf-8\") as f:\n",
    "    for i, line in enumerate(f):\n",
    "        print(line.rstrip())\n",
    "        if i >= 39:\n",
    "            break\n"
   ]
  },
  {
   "cell_type": "code",
   "execution_count": 21,
   "id": "3a5afda8-6e71-4bc0-937f-994543234a06",
   "metadata": {},
   "outputs": [
    {
     "name": "stdout",
     "output_type": "stream",
     "text": [
      "Browser closed.\n"
     ]
    }
   ],
   "source": [
    "driver.quit()\n",
    "print(\"Browser closed.\")\n"
   ]
  },
  {
   "cell_type": "code",
   "execution_count": null,
   "id": "f7d6ec32-63c4-4166-878d-d62d7086520e",
   "metadata": {},
   "outputs": [],
   "source": []
  }
 ],
 "metadata": {
  "kernelspec": {
   "display_name": "Python (20th_century)",
   "language": "python",
   "name": "20th_century"
  },
  "language_info": {
   "codemirror_mode": {
    "name": "ipython",
    "version": 3
   },
   "file_extension": ".py",
   "mimetype": "text/x-python",
   "name": "python",
   "nbconvert_exporter": "python",
   "pygments_lexer": "ipython3",
   "version": "3.11.13"
  }
 },
 "nbformat": 4,
 "nbformat_minor": 5
}
