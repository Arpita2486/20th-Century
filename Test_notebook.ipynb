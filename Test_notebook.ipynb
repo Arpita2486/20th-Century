{
 "cells": [
  {
   "cell_type": "code",
   "execution_count": 1,
   "id": "f30df1ac-fd47-4452-810f-c2aa3e5fcc30",
   "metadata": {},
   "outputs": [
    {
     "data": {
      "text/plain": [
       "33"
      ]
     },
     "execution_count": 1,
     "metadata": {},
     "output_type": "execute_result"
    }
   ],
   "source": [
    "11+22"
   ]
  },
  {
   "cell_type": "code",
   "execution_count": null,
   "id": "4e71a430-fa9f-4efd-9504-6e2ddb3c0bbb",
   "metadata": {},
   "outputs": [],
   "source": []
  }
 ],
 "metadata": {
  "kernelspec": {
   "display_name": "Python [conda env:base] *",
   "language": "python",
   "name": "conda-base-py"
  },
  "language_info": {
   "codemirror_mode": {
    "name": "ipython",
    "version": 3
   },
   "file_extension": ".py",
   "mimetype": "text/x-python",
   "name": "python",
   "nbconvert_exporter": "python",
   "pygments_lexer": "ipython3",
   "version": "3.12.7"
  }
 },
 "nbformat": 4,
 "nbformat_minor": 5
}
